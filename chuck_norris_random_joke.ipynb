{
  "nbformat": 4,
  "nbformat_minor": 0,
  "metadata": {
    "colab": {
      "provenance": [],
      "authorship_tag": "ABX9TyN6OwspgtdqtPELAT4qQeq0"
    },
    "kernelspec": {
      "name": "python3",
      "display_name": "Python 3"
    },
    "language_info": {
      "name": "python"
    }
  },
  "cells": [
    {
      "cell_type": "code",
      "execution_count": null,
      "metadata": {
        "colab": {
          "base_uri": "https://localhost:8080/"
        },
        "id": "k_wyx3USPKlY",
        "outputId": "ef8fdb46-017a-4fb1-8e5d-a772b6113e1d"
      },
      "outputs": [
        {
          "output_type": "stream",
          "name": "stdout",
          "text": [
            "Chuck Norris played chicken with a train...and won.\n"
          ]
        }
      ],
      "source": [
        "import requests  # Импортируем модуль requests для отправки HTTP-запросов\n",
        "\n",
        "def get_chuck_norris_joke():\n",
        "    \"\"\"\n",
        "    Функция для получения случайной шутки о Чаке Норрисе.\n",
        "    \"\"\"\n",
        "    url = \"https://api.chucknorris.io/jokes/random\"  # Устанавливаем URL API для шуток Чака Норриса\n",
        "    response = requests.get(url)  # Отправляем GET-запрос к API\n",
        "    data = response.json()  # Разбираем ответ в формате JSON\n",
        "    joke = data[\"value\"]  # Извлекаем текст шутки\n",
        "    return joke  # Возвращаем шутку\n",
        "\n",
        "# Вызываем функцию, чтобы получить шутку\n",
        "chuck_norris_joke = get_chuck_norris_joke()\n",
        "\n",
        "# Выводим шутку на экран\n",
        "print(chuck_norris_joke)"
      ]
    }
  ]
}